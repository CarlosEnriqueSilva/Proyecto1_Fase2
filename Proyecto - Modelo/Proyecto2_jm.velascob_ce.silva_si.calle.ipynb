{
 "cells": [
  {
   "cell_type": "markdown",
   "metadata": {},
   "source": [
    "# Proyecto 1 Etapa 2 - Inteligencia de Negocios"
   ]
  },
  {
   "cell_type": "markdown",
   "metadata": {},
   "source": [
    "## Nombres\n",
    "- Sara Isabel Calle.\n",
    "- Carlos Enrique Silva L.\n",
    "- Juliana Velasco. "
   ]
  },
  {
   "cell_type": "markdown",
   "metadata": {},
   "source": [
    "# 1. Importación de Librerias"
   ]
  },
  {
   "cell_type": "code",
   "execution_count": 1,
   "metadata": {},
   "outputs": [],
   "source": [
    "import sys\n",
    "import warnings\n",
    "if not sys.warnoptions:\n",
    "    warnings.simplefilter(\"ignore\")"
   ]
  },
  {
   "cell_type": "code",
   "execution_count": 2,
   "metadata": {},
   "outputs": [
    {
     "name": "stderr",
     "output_type": "stream",
     "text": [
      "\n",
      "Bad key text.latex.preview in file C:\\Users\\cesl\\anaconda3\\lib\\site-packages\\matplotlib\\mpl-data\\stylelib\\_classic_test.mplstyle, line 123 ('text.latex.preview : False')\n",
      "You probably need to get an updated matplotlibrc file from\n",
      "https://github.com/matplotlib/matplotlib/blob/v3.5.1/matplotlibrc.template\n",
      "or from the matplotlib source distribution\n",
      "\n",
      "Bad key mathtext.fallback_to_cm in file C:\\Users\\cesl\\anaconda3\\lib\\site-packages\\matplotlib\\mpl-data\\stylelib\\_classic_test.mplstyle, line 155 ('mathtext.fallback_to_cm : True  # When True, use symbols from the Computer Modern')\n",
      "You probably need to get an updated matplotlibrc file from\n",
      "https://github.com/matplotlib/matplotlib/blob/v3.5.1/matplotlibrc.template\n",
      "or from the matplotlib source distribution\n",
      "\n",
      "Bad key savefig.jpeg_quality in file C:\\Users\\cesl\\anaconda3\\lib\\site-packages\\matplotlib\\mpl-data\\stylelib\\_classic_test.mplstyle, line 418 ('savefig.jpeg_quality: 95       # when a jpeg is saved, the default quality parameter.')\n",
      "You probably need to get an updated matplotlibrc file from\n",
      "https://github.com/matplotlib/matplotlib/blob/v3.5.1/matplotlibrc.template\n",
      "or from the matplotlib source distribution\n",
      "\n",
      "Bad key keymap.all_axes in file C:\\Users\\cesl\\anaconda3\\lib\\site-packages\\matplotlib\\mpl-data\\stylelib\\_classic_test.mplstyle, line 466 ('keymap.all_axes : a                 # enable all axes')\n",
      "You probably need to get an updated matplotlibrc file from\n",
      "https://github.com/matplotlib/matplotlib/blob/v3.5.1/matplotlibrc.template\n",
      "or from the matplotlib source distribution\n",
      "\n",
      "Bad key animation.avconv_path in file C:\\Users\\cesl\\anaconda3\\lib\\site-packages\\matplotlib\\mpl-data\\stylelib\\_classic_test.mplstyle, line 477 ('animation.avconv_path: avconv     # Path to avconv binary. Without full path')\n",
      "You probably need to get an updated matplotlibrc file from\n",
      "https://github.com/matplotlib/matplotlib/blob/v3.5.1/matplotlibrc.template\n",
      "or from the matplotlib source distribution\n",
      "\n",
      "Bad key animation.avconv_args in file C:\\Users\\cesl\\anaconda3\\lib\\site-packages\\matplotlib\\mpl-data\\stylelib\\_classic_test.mplstyle, line 479 ('animation.avconv_args:            # Additional arguments to pass to avconv')\n",
      "You probably need to get an updated matplotlibrc file from\n",
      "https://github.com/matplotlib/matplotlib/blob/v3.5.1/matplotlibrc.template\n",
      "or from the matplotlib source distribution\n",
      "[nltk_data] Downloading package punkt to\n",
      "[nltk_data]     C:\\Users\\cesl\\AppData\\Roaming\\nltk_data...\n",
      "[nltk_data]   Package punkt is already up-to-date!\n",
      "[nltk_data] Downloading package stopwords to\n",
      "[nltk_data]     C:\\Users\\cesl\\AppData\\Roaming\\nltk_data...\n",
      "[nltk_data]   Package stopwords is already up-to-date!\n",
      "[nltk_data] Downloading package wordnet to\n",
      "[nltk_data]     C:\\Users\\cesl\\AppData\\Roaming\\nltk_data...\n",
      "[nltk_data]   Package wordnet is already up-to-date!\n"
     ]
    }
   ],
   "source": [
    "import pandas as pd\n",
    "import numpy as np\n",
    "import sklearn \n",
    "import seaborn as sns \n",
    "import matplotlib.pyplot as plt\n",
    "from imblearn.over_sampling import SMOTE\n",
    "from imblearn.pipeline import Pipeline\n",
    "import re, string, unicodedata\n",
    "from keras.preprocessing.text import Tokenizer \n",
    "from scipy.sparse import hstack\n",
    "\n",
    "#Importacions sklearn\n",
    "from sklearn import tree as tr\n",
    "from sklearn.tree import DecisionTreeClassifier \n",
    "from sklearn.neighbors import KNeighborsClassifier\n",
    "from sklearn.ensemble import RandomForestClassifier\n",
    "from sklearn.model_selection import train_test_split, GridSearchCV, KFold\n",
    "from sklearn.metrics import confusion_matrix,plot_confusion_matrix, classification_report, precision_score, recall_score, f1_score, accuracy_score\n",
    "from sklearn.preprocessing import StandardScaler, Normalizer, LabelEncoder\n",
    "from sklearn.ensemble import RandomForestClassifier\n",
    "from sklearn.feature_extraction.text import TfidfVectorizer\n",
    "from sklearn.compose import ColumnTransformer\n",
    "from sklearn.feature_extraction.text import CountVectorizer\n",
    "from sklearn.feature_extraction.text import TfidfTransformer\n",
    "from sklearn.compose import make_column_transformer\n",
    "from sklearn.preprocessing import FunctionTransformer\n",
    "from mlxtend.feature_selection import ColumnSelector\n",
    "\n",
    "\n",
    "# Librerías de nltk que serán utilizadas.\n",
    "import nltk\n",
    "nltk.download('punkt')\n",
    "nltk.download('stopwords')\n",
    "nltk.download('wordnet') \n",
    "\n",
    "# Preprocesamiento de texto.\n",
    "import contractions\n",
    "import inflect\n",
    "from nltk import word_tokenize, sent_tokenize\n",
    "from nltk.corpus import stopwords\n",
    "from nltk.stem import LancasterStemmer, WordNetLemmatizer\n",
    "\n",
    "#Modulos propios para modificar los datos\n",
    "from PrepData import *\n",
    "\n",
    "# Importar/ Exportar modelos\n",
    "from joblib import dump, load"
   ]
  },
  {
   "cell_type": "markdown",
   "metadata": {},
   "source": [
    "## 2. Carga y entendimiento de los datos"
   ]
  },
  {
   "cell_type": "code",
   "execution_count": 3,
   "metadata": {},
   "outputs": [],
   "source": [
    "#Cargar datos al dataframe\n",
    "df_elegibilidad = pd.read_csv('clinical_trials_on_cancer_data_clasificacion.csv', sep=',', encoding = 'utf-8', na_values = '')"
   ]
  },
  {
   "cell_type": "code",
   "execution_count": 4,
   "metadata": {},
   "outputs": [
    {
     "data": {
      "text/html": [
       "<div>\n",
       "<style scoped>\n",
       "    .dataframe tbody tr th:only-of-type {\n",
       "        vertical-align: middle;\n",
       "    }\n",
       "\n",
       "    .dataframe tbody tr th {\n",
       "        vertical-align: top;\n",
       "    }\n",
       "\n",
       "    .dataframe thead th {\n",
       "        text-align: right;\n",
       "    }\n",
       "</style>\n",
       "<table border=\"1\" class=\"dataframe\">\n",
       "  <thead>\n",
       "    <tr style=\"text-align: right;\">\n",
       "      <th></th>\n",
       "      <th>label</th>\n",
       "      <th>study_and_condition</th>\n",
       "    </tr>\n",
       "  </thead>\n",
       "  <tbody>\n",
       "    <tr>\n",
       "      <th>0</th>\n",
       "      <td>__label__0</td>\n",
       "      <td>study interventions are Saracatinib . recurren...</td>\n",
       "    </tr>\n",
       "    <tr>\n",
       "      <th>1</th>\n",
       "      <td>__label__1</td>\n",
       "      <td>study interventions are Stem cell transplantat...</td>\n",
       "    </tr>\n",
       "    <tr>\n",
       "      <th>2</th>\n",
       "      <td>__label__0</td>\n",
       "      <td>study interventions are Lenograstim . recurren...</td>\n",
       "    </tr>\n",
       "    <tr>\n",
       "      <th>3</th>\n",
       "      <td>__label__0</td>\n",
       "      <td>study interventions are Doxorubicin . stage ii...</td>\n",
       "    </tr>\n",
       "    <tr>\n",
       "      <th>4</th>\n",
       "      <td>__label__1</td>\n",
       "      <td>study interventions are Poly I-C . prostate ca...</td>\n",
       "    </tr>\n",
       "  </tbody>\n",
       "</table>\n",
       "</div>"
      ],
      "text/plain": [
       "        label                                study_and_condition\n",
       "0  __label__0  study interventions are Saracatinib . recurren...\n",
       "1  __label__1  study interventions are Stem cell transplantat...\n",
       "2  __label__0  study interventions are Lenograstim . recurren...\n",
       "3  __label__0  study interventions are Doxorubicin . stage ii...\n",
       "4  __label__1  study interventions are Poly I-C . prostate ca..."
      ]
     },
     "execution_count": 4,
     "metadata": {},
     "output_type": "execute_result"
    }
   ],
   "source": [
    "#Ver parte de los datos\n",
    "df_elegibilidad.head()"
   ]
  },
  {
   "cell_type": "markdown",
   "metadata": {},
   "source": [
    "## 3. Random Forest "
   ]
  },
  {
   "cell_type": "markdown",
   "metadata": {},
   "source": [
    "### Preprocesamiento"
   ]
  },
  {
   "cell_type": "code",
   "execution_count": 5,
   "metadata": {},
   "outputs": [
    {
     "data": {
      "text/html": [
       "<div>\n",
       "<style scoped>\n",
       "    .dataframe tbody tr th:only-of-type {\n",
       "        vertical-align: middle;\n",
       "    }\n",
       "\n",
       "    .dataframe tbody tr th {\n",
       "        vertical-align: top;\n",
       "    }\n",
       "\n",
       "    .dataframe thead th {\n",
       "        text-align: right;\n",
       "    }\n",
       "</style>\n",
       "<table border=\"1\" class=\"dataframe\">\n",
       "  <thead>\n",
       "    <tr style=\"text-align: right;\">\n",
       "      <th></th>\n",
       "      <th>0</th>\n",
       "      <th>1</th>\n",
       "      <th>2</th>\n",
       "      <th>3</th>\n",
       "    </tr>\n",
       "  </thead>\n",
       "  <tbody>\n",
       "    <tr>\n",
       "      <th>0</th>\n",
       "      <td>study interventions are Saracatinib</td>\n",
       "      <td>recurrent verrucous carcinoma of the larynx d...</td>\n",
       "      <td>None</td>\n",
       "      <td>None</td>\n",
       "    </tr>\n",
       "    <tr>\n",
       "      <th>1</th>\n",
       "      <td>study interventions are Stem cell transplantat...</td>\n",
       "      <td>hodgkin lymphoma diagnosis and history of con...</td>\n",
       "      <td>None</td>\n",
       "      <td>None</td>\n",
       "    </tr>\n",
       "    <tr>\n",
       "      <th>2</th>\n",
       "      <td>study interventions are Lenograstim</td>\n",
       "      <td>recurrent adult diffuse mixed cell lymphoma d...</td>\n",
       "      <td>None</td>\n",
       "      <td>None</td>\n",
       "    </tr>\n",
       "    <tr>\n",
       "      <th>3</th>\n",
       "      <td>study interventions are Doxorubicin</td>\n",
       "      <td>stage iii diffuse large cell lymphoma diagnos...</td>\n",
       "      <td>None</td>\n",
       "      <td>None</td>\n",
       "    </tr>\n",
       "    <tr>\n",
       "      <th>4</th>\n",
       "      <td>study interventions are Poly I-C</td>\n",
       "      <td>prostate cancer diagnosis and unresolved irae...</td>\n",
       "      <td>None</td>\n",
       "      <td>None</td>\n",
       "    </tr>\n",
       "  </tbody>\n",
       "</table>\n",
       "</div>"
      ],
      "text/plain": [
       "                                                   0  \\\n",
       "0               study interventions are Saracatinib    \n",
       "1  study interventions are Stem cell transplantat...   \n",
       "2               study interventions are Lenograstim    \n",
       "3               study interventions are Doxorubicin    \n",
       "4                  study interventions are Poly I-C    \n",
       "\n",
       "                                                   1     2     3  \n",
       "0   recurrent verrucous carcinoma of the larynx d...  None  None  \n",
       "1   hodgkin lymphoma diagnosis and history of con...  None  None  \n",
       "2   recurrent adult diffuse mixed cell lymphoma d...  None  None  \n",
       "3   stage iii diffuse large cell lymphoma diagnos...  None  None  \n",
       "4   prostate cancer diagnosis and unresolved irae...  None  None  "
      ]
     },
     "execution_count": 5,
     "metadata": {},
     "output_type": "execute_result"
    }
   ],
   "source": [
    "#Separar la columna study_and_condition en 2 (study, condition)\n",
    "df_temp = df_elegibilidad['study_and_condition'].str.split('.', expand=True)\n",
    "df_temp.head()"
   ]
  },
  {
   "cell_type": "code",
   "execution_count": 6,
   "metadata": {},
   "outputs": [
    {
     "data": {
      "text/html": [
       "<div>\n",
       "<style scoped>\n",
       "    .dataframe tbody tr th:only-of-type {\n",
       "        vertical-align: middle;\n",
       "    }\n",
       "\n",
       "    .dataframe tbody tr th {\n",
       "        vertical-align: top;\n",
       "    }\n",
       "\n",
       "    .dataframe thead th {\n",
       "        text-align: right;\n",
       "    }\n",
       "</style>\n",
       "<table border=\"1\" class=\"dataframe\">\n",
       "  <thead>\n",
       "    <tr style=\"text-align: right;\">\n",
       "      <th></th>\n",
       "      <th>label</th>\n",
       "      <th>study</th>\n",
       "      <th>condition</th>\n",
       "    </tr>\n",
       "  </thead>\n",
       "  <tbody>\n",
       "    <tr>\n",
       "      <th>0</th>\n",
       "      <td>__label__0</td>\n",
       "      <td>study interventions are Saracatinib</td>\n",
       "      <td>recurrent verrucous carcinoma of the larynx d...</td>\n",
       "    </tr>\n",
       "    <tr>\n",
       "      <th>1</th>\n",
       "      <td>__label__1</td>\n",
       "      <td>study interventions are Stem cell transplantat...</td>\n",
       "      <td>hodgkin lymphoma diagnosis and history of con...</td>\n",
       "    </tr>\n",
       "    <tr>\n",
       "      <th>2</th>\n",
       "      <td>__label__0</td>\n",
       "      <td>study interventions are Lenograstim</td>\n",
       "      <td>recurrent adult diffuse mixed cell lymphoma d...</td>\n",
       "    </tr>\n",
       "    <tr>\n",
       "      <th>3</th>\n",
       "      <td>__label__0</td>\n",
       "      <td>study interventions are Doxorubicin</td>\n",
       "      <td>stage iii diffuse large cell lymphoma diagnos...</td>\n",
       "    </tr>\n",
       "    <tr>\n",
       "      <th>4</th>\n",
       "      <td>__label__1</td>\n",
       "      <td>study interventions are Poly I-C</td>\n",
       "      <td>prostate cancer diagnosis and unresolved irae...</td>\n",
       "    </tr>\n",
       "  </tbody>\n",
       "</table>\n",
       "</div>"
      ],
      "text/plain": [
       "        label                                              study  \\\n",
       "0  __label__0               study interventions are Saracatinib    \n",
       "1  __label__1  study interventions are Stem cell transplantat...   \n",
       "2  __label__0               study interventions are Lenograstim    \n",
       "3  __label__0               study interventions are Doxorubicin    \n",
       "4  __label__1                  study interventions are Poly I-C    \n",
       "\n",
       "                                           condition  \n",
       "0   recurrent verrucous carcinoma of the larynx d...  \n",
       "1   hodgkin lymphoma diagnosis and history of con...  \n",
       "2   recurrent adult diffuse mixed cell lymphoma d...  \n",
       "3   stage iii diffuse large cell lymphoma diagnos...  \n",
       "4   prostate cancer diagnosis and unresolved irae...  "
      ]
     },
     "execution_count": 6,
     "metadata": {},
     "output_type": "execute_result"
    }
   ],
   "source": [
    "#Las columnas 2 y 3 se generaron por puntos puestos o espacios, se juntan entonces las columnas 1,2,3 en una sola\n",
    "df_temp.fillna(\" \", inplace = True)\n",
    "df_temp['label'] = df_elegibilidad['label']\n",
    "df_temp['study'] = df_temp[0]\n",
    "df_temp['condition'] = df_temp[1] + df_temp[2] + df_temp[3]\n",
    "df_elegibilidad = df_temp.drop([0, 1, 2, 3], axis=1)\n",
    "df_elegibilidad.head()"
   ]
  },
  {
   "cell_type": "code",
   "execution_count": 7,
   "metadata": {},
   "outputs": [],
   "source": [
    "#Eliminar duplicados\n",
    "df_elegibilidad = df_elegibilidad.drop_duplicates()"
   ]
  },
  {
   "cell_type": "code",
   "execution_count": 8,
   "metadata": {},
   "outputs": [
    {
     "data": {
      "text/plain": [
       "(11988, 3)"
      ]
     },
     "execution_count": 8,
     "metadata": {},
     "output_type": "execute_result"
    }
   ],
   "source": [
    "#Ver tamanio del Df\n",
    "df_elegibilidad.shape"
   ]
  },
  {
   "cell_type": "code",
   "execution_count": 9,
   "metadata": {},
   "outputs": [],
   "source": [
    "#Realizar una copia del df\n",
    "df_model=df_elegibilidad.copy()"
   ]
  },
  {
   "cell_type": "code",
   "execution_count": 10,
   "metadata": {},
   "outputs": [
    {
     "data": {
      "text/html": [
       "<div>\n",
       "<style scoped>\n",
       "    .dataframe tbody tr th:only-of-type {\n",
       "        vertical-align: middle;\n",
       "    }\n",
       "\n",
       "    .dataframe tbody tr th {\n",
       "        vertical-align: top;\n",
       "    }\n",
       "\n",
       "    .dataframe thead th {\n",
       "        text-align: right;\n",
       "    }\n",
       "</style>\n",
       "<table border=\"1\" class=\"dataframe\">\n",
       "  <thead>\n",
       "    <tr style=\"text-align: right;\">\n",
       "      <th></th>\n",
       "      <th>label</th>\n",
       "      <th>study</th>\n",
       "      <th>condition</th>\n",
       "    </tr>\n",
       "  </thead>\n",
       "  <tbody>\n",
       "    <tr>\n",
       "      <th>0</th>\n",
       "      <td>0</td>\n",
       "      <td>study interventions are Saracatinib</td>\n",
       "      <td>recurrent verrucous carcinoma of the larynx d...</td>\n",
       "    </tr>\n",
       "    <tr>\n",
       "      <th>1</th>\n",
       "      <td>1</td>\n",
       "      <td>study interventions are Stem cell transplantat...</td>\n",
       "      <td>hodgkin lymphoma diagnosis and history of con...</td>\n",
       "    </tr>\n",
       "    <tr>\n",
       "      <th>2</th>\n",
       "      <td>0</td>\n",
       "      <td>study interventions are Lenograstim</td>\n",
       "      <td>recurrent adult diffuse mixed cell lymphoma d...</td>\n",
       "    </tr>\n",
       "    <tr>\n",
       "      <th>3</th>\n",
       "      <td>0</td>\n",
       "      <td>study interventions are Doxorubicin</td>\n",
       "      <td>stage iii diffuse large cell lymphoma diagnos...</td>\n",
       "    </tr>\n",
       "    <tr>\n",
       "      <th>4</th>\n",
       "      <td>1</td>\n",
       "      <td>study interventions are Poly I-C</td>\n",
       "      <td>prostate cancer diagnosis and unresolved irae...</td>\n",
       "    </tr>\n",
       "  </tbody>\n",
       "</table>\n",
       "</div>"
      ],
      "text/plain": [
       "   label                                              study  \\\n",
       "0      0               study interventions are Saracatinib    \n",
       "1      1  study interventions are Stem cell transplantat...   \n",
       "2      0               study interventions are Lenograstim    \n",
       "3      0               study interventions are Doxorubicin    \n",
       "4      1                  study interventions are Poly I-C    \n",
       "\n",
       "                                           condition  \n",
       "0   recurrent verrucous carcinoma of the larynx d...  \n",
       "1   hodgkin lymphoma diagnosis and history of con...  \n",
       "2   recurrent adult diffuse mixed cell lymphoma d...  \n",
       "3   stage iii diffuse large cell lymphoma diagnos...  \n",
       "4   prostate cancer diagnosis and unresolved irae...  "
      ]
     },
     "execution_count": 10,
     "metadata": {},
     "output_type": "execute_result"
    }
   ],
   "source": [
    "#Pasar labels a numerico para que el modelo funcione\n",
    "df_model['label'] = df_model.label.replace('__label__0', 0)\n",
    "df_model['label'] = df_model.label.replace('__label__1', 1)\n",
    "df_model.head()"
   ]
  },
  {
   "cell_type": "code",
   "execution_count": 11,
   "metadata": {},
   "outputs": [],
   "source": [
    "vectorizer1 = TfidfVectorizer()  \n",
    "vectorizer2 = TfidfVectorizer()  \n",
    "ct=make_column_transformer((vectorizer1,0),(vectorizer2,1))"
   ]
  },
  {
   "cell_type": "code",
   "execution_count": 12,
   "metadata": {},
   "outputs": [],
   "source": [
    "#Crear un preprocesador para realizar procesamiento de lenguaje natural\n",
    "out_study = FunctionTransformer(column_preprocessing, validate = False)\n",
    "out_condition = FunctionTransformer(column_preprocessing, validate = False)\n",
    "t = [\n",
    "    ('study_Tr', out_study, ['study']),\n",
    "    ('condition_Tr', out_condition, ['condition']),\n",
    "]\n",
    "data_preprocessor = ColumnTransformer(transformers=t,  remainder='drop', sparse_threshold=0)"
   ]
  },
  {
   "cell_type": "code",
   "execution_count": 13,
   "metadata": {},
   "outputs": [],
   "source": [
    "#Preprocesamiento\n",
    "pre = [('data_preprocessing', data_preprocessor)]"
   ]
  },
  {
   "cell_type": "code",
   "execution_count": 14,
   "metadata": {},
   "outputs": [],
   "source": [
    "#Model\n",
    "model = [('model', RandomForestClassifier(n_estimators=80,  criterion='entropy', max_depth=500))]"
   ]
  },
  {
   "cell_type": "code",
   "execution_count": 15,
   "metadata": {},
   "outputs": [],
   "source": [
    "#Declara el pipeline \n",
    "pipeline = Pipeline(steps=[('data_preprocessing', data_preprocessor), ('vectorizing', ct),('model', RandomForestClassifier(n_estimators=80,  criterion='entropy', max_depth=500))])"
   ]
  },
  {
   "cell_type": "code",
   "execution_count": 16,
   "metadata": {},
   "outputs": [],
   "source": [
    "#Extraemos las variables explicativas y objetivo para entrenar\n",
    "X = df_model.drop('label', axis = 1)\n",
    "Y = df_model['label']\n",
    "X_train, X_test, Y_train, Y_test = train_test_split(X, Y, test_size=0.2, random_state=100)"
   ]
  },
  {
   "cell_type": "code",
   "execution_count": 17,
   "metadata": {},
   "outputs": [],
   "source": [
    "#Entrenar el modelo\n",
    "pipeline = pipeline.fit(X_train,Y_train)"
   ]
  },
  {
   "cell_type": "code",
   "execution_count": 18,
   "metadata": {},
   "outputs": [],
   "source": [
    "# Determinamos las predicciones del modelo sobre el conjunto test.\n",
    "y_pred = pipeline.predict(X_test)"
   ]
  },
  {
   "cell_type": "code",
   "execution_count": 19,
   "metadata": {},
   "outputs": [
    {
     "data": {
      "text/plain": [
       "array([[975, 259],\n",
       "       [205, 959]], dtype=int64)"
      ]
     },
     "execution_count": 19,
     "metadata": {},
     "output_type": "execute_result"
    }
   ],
   "source": [
    "# Se genera la matriz de confusión\n",
    "confusion_matrix(Y_test, y_pred)"
   ]
  },
  {
   "cell_type": "code",
   "execution_count": 20,
   "metadata": {},
   "outputs": [
    {
     "data": {
      "image/png": "[encoded data removed]",
      "text/plain": [
       "<Figure size 432x288 with 2 Axes>"
      ]
     },
     "metadata": {
      "needs_background": "light"
     },
     "output_type": "display_data"
    }
   ],
   "source": [
    "# Se puede visualizar la matriz de confusión\n",
    "plot_confusion_matrix(pipeline, X_test, Y_test)  \n",
    "plt.show() "
   ]
  },
  {
   "cell_type": "code",
   "execution_count": 21,
   "metadata": {},
   "outputs": [
    {
     "name": "stdout",
     "output_type": "stream",
     "text": [
      "              precision    recall  f1-score   support\n",
      "\n",
      "           0       0.83      0.79      0.81      1234\n",
      "           1       0.79      0.82      0.81      1164\n",
      "\n",
      "    accuracy                           0.81      2398\n",
      "   macro avg       0.81      0.81      0.81      2398\n",
      "weighted avg       0.81      0.81      0.81      2398\n",
      "\n"
     ]
    }
   ],
   "source": [
    "print(classification_report(Y_test, y_pred))"
   ]
  },
  {
   "cell_type": "markdown",
   "metadata": {},
   "source": [
    "# 7. Exportar el modelo"
   ]
  },
  {
   "cell_type": "code",
   "execution_count": 22,
   "metadata": {
    "scrolled": true
   },
   "outputs": [
    {
     "data": {
      "text/plain": [
       "['modelo.joblib']"
      ]
     },
     "execution_count": 22,
     "metadata": {},
     "output_type": "execute_result"
    }
   ],
   "source": [
    "#Usamos la lbreria joblib\n",
    "filename = 'modelo.joblib'\n",
    "#Se guarda\n",
    "dump(pipeline, filename) "
   ]
  },
  {
   "cell_type": "code",
   "execution_count": 23,
   "metadata": {},
   "outputs": [
    {
     "data": {
      "text/html": [
       "<div>\n",
       "<style scoped>\n",
       "    .dataframe tbody tr th:only-of-type {\n",
       "        vertical-align: middle;\n",
       "    }\n",
       "\n",
       "    .dataframe tbody tr th {\n",
       "        vertical-align: top;\n",
       "    }\n",
       "\n",
       "    .dataframe thead th {\n",
       "        text-align: right;\n",
       "    }\n",
       "</style>\n",
       "<table border=\"1\" class=\"dataframe\">\n",
       "  <thead>\n",
       "    <tr style=\"text-align: right;\">\n",
       "      <th></th>\n",
       "      <th>study</th>\n",
       "      <th>condition</th>\n",
       "    </tr>\n",
       "  </thead>\n",
       "  <tbody>\n",
       "    <tr>\n",
       "      <th>211</th>\n",
       "      <td>study interventions are Everolimus</td>\n",
       "      <td>recurrent renal cell cancer diagnosis and adu...</td>\n",
       "    </tr>\n",
       "    <tr>\n",
       "      <th>1302</th>\n",
       "      <td>study interventions are Bevacizumab</td>\n",
       "      <td>fallopian tube cancer diagnosis and hepatic f...</td>\n",
       "    </tr>\n",
       "    <tr>\n",
       "      <th>2202</th>\n",
       "      <td>study interventions are Oxaliplatin</td>\n",
       "      <td>gastric cancer diagnosis and patients must ha...</td>\n",
       "    </tr>\n",
       "    <tr>\n",
       "      <th>57</th>\n",
       "      <td>study interventions are Melphalan</td>\n",
       "      <td>iii ii with symptomatic bone lesion radiologi...</td>\n",
       "    </tr>\n",
       "    <tr>\n",
       "      <th>689</th>\n",
       "      <td>study interventions are Mycophenolic Acid</td>\n",
       "      <td>childhood diffuse large cell lymphoma diagnos...</td>\n",
       "    </tr>\n",
       "    <tr>\n",
       "      <th>...</th>\n",
       "      <td>...</td>\n",
       "      <td>...</td>\n",
       "    </tr>\n",
       "    <tr>\n",
       "      <th>2344</th>\n",
       "      <td>study interventions are Lenograstim</td>\n",
       "      <td>recurrent adult diffuse small cleaved cell ly...</td>\n",
       "    </tr>\n",
       "    <tr>\n",
       "      <th>2371</th>\n",
       "      <td>study interventions are Mogamulizumab</td>\n",
       "      <td>solid tumor diagnosis and subject who has und...</td>\n",
       "    </tr>\n",
       "    <tr>\n",
       "      <th>7946</th>\n",
       "      <td>study interventions are Interferon-gamma</td>\n",
       "      <td>osteosarcoma diagnosis and aspartate transami...</td>\n",
       "    </tr>\n",
       "    <tr>\n",
       "      <th>8438</th>\n",
       "      <td>study interventions are Vadimezan</td>\n",
       "      <td>metastatic cancer with impaired renal functio...</td>\n",
       "    </tr>\n",
       "    <tr>\n",
       "      <th>10513</th>\n",
       "      <td>study interventions are Everolimus</td>\n",
       "      <td>pancreatic cell adenoma diagnosis and creatin...</td>\n",
       "    </tr>\n",
       "  </tbody>\n",
       "</table>\n",
       "<p>2398 rows × 2 columns</p>\n",
       "</div>"
      ],
      "text/plain": [
       "                                            study  \\\n",
       "211           study interventions are Everolimus    \n",
       "1302         study interventions are Bevacizumab    \n",
       "2202         study interventions are Oxaliplatin    \n",
       "57             study interventions are Melphalan    \n",
       "689    study interventions are Mycophenolic Acid    \n",
       "...                                           ...   \n",
       "2344         study interventions are Lenograstim    \n",
       "2371       study interventions are Mogamulizumab    \n",
       "7946    study interventions are Interferon-gamma    \n",
       "8438           study interventions are Vadimezan    \n",
       "10513         study interventions are Everolimus    \n",
       "\n",
       "                                               condition  \n",
       "211     recurrent renal cell cancer diagnosis and adu...  \n",
       "1302    fallopian tube cancer diagnosis and hepatic f...  \n",
       "2202    gastric cancer diagnosis and patients must ha...  \n",
       "57      iii ii with symptomatic bone lesion radiologi...  \n",
       "689     childhood diffuse large cell lymphoma diagnos...  \n",
       "...                                                  ...  \n",
       "2344    recurrent adult diffuse small cleaved cell ly...  \n",
       "2371    solid tumor diagnosis and subject who has und...  \n",
       "7946    osteosarcoma diagnosis and aspartate transami...  \n",
       "8438    metastatic cancer with impaired renal functio...  \n",
       "10513   pancreatic cell adenoma diagnosis and creatin...  \n",
       "\n",
       "[2398 rows x 2 columns]"
      ]
     },
     "execution_count": 23,
     "metadata": {},
     "output_type": "execute_result"
    }
   ],
   "source": [
    "X_test"
   ]
  },
  {
   "cell_type": "code",
   "execution_count": 24,
   "metadata": {},
   "outputs": [
    {
     "data": {
      "text/html": [
       "<div>\n",
       "<style scoped>\n",
       "    .dataframe tbody tr th:only-of-type {\n",
       "        vertical-align: middle;\n",
       "    }\n",
       "\n",
       "    .dataframe tbody tr th {\n",
       "        vertical-align: top;\n",
       "    }\n",
       "\n",
       "    .dataframe thead th {\n",
       "        text-align: right;\n",
       "    }\n",
       "</style>\n",
       "<table border=\"1\" class=\"dataframe\">\n",
       "  <thead>\n",
       "    <tr style=\"text-align: right;\">\n",
       "      <th></th>\n",
       "      <th>study</th>\n",
       "      <th>condition</th>\n",
       "    </tr>\n",
       "  </thead>\n",
       "  <tbody>\n",
       "    <tr>\n",
       "      <th>0</th>\n",
       "      <td>study interventions are Stem cell transplantation</td>\n",
       "      <td>hodgkin lymphoma diagnosis and history of cong...</td>\n",
       "    </tr>\n",
       "  </tbody>\n",
       "</table>\n",
       "</div>"
      ],
      "text/plain": [
       "                                               study  \\\n",
       "0  study interventions are Stem cell transplantation   \n",
       "\n",
       "                                           condition  \n",
       "0  hodgkin lymphoma diagnosis and history of cong...  "
      ]
     },
     "execution_count": 24,
     "metadata": {},
     "output_type": "execute_result"
    }
   ],
   "source": [
    "data = [['study interventions are Stem cell transplantation','hodgkin lymphoma diagnosis and history of congenital hematologic immunologic or metabolic disorder which in the estimation of the pi poses prohibitive risk to the recipient']]\n",
    "df_test = pd.DataFrame(data, columns = ['study', 'condition'])\n",
    "df_test"
   ]
  },
  {
   "cell_type": "code",
   "execution_count": 25,
   "metadata": {},
   "outputs": [
    {
     "name": "stdout",
     "output_type": "stream",
     "text": [
      "1\n"
     ]
    }
   ],
   "source": [
    "x = pipeline.predict(df_test)\n",
    "print(x[0])"
   ]
  }
 ],
 "metadata": {
  "kernelspec": {
   "display_name": "Python 3",
   "language": "python",
   "name": "python3"
  },
  "language_info": {
   "codemirror_mode": {
    "name": "ipython",
    "version": 3
   },
   "file_extension": ".py",
   "mimetype": "text/x-python",
   "name": "python",
   "nbconvert_exporter": "python",
   "pygments_lexer": "ipython3",
   "version": "3.7.6"
  }
 },
 "nbformat": 4,
 "nbformat_minor": 5
}
